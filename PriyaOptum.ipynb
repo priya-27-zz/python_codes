{
 "cells": [
  {
   "cell_type": "code",
   "execution_count": 1,
   "id": "86995fcc",
   "metadata": {},
   "outputs": [],
   "source": [
    "import pandas as pd\n",
    "import numpy as np"
   ]
  },
  {
   "cell_type": "code",
   "execution_count": 2,
   "id": "6f7f115e",
   "metadata": {},
   "outputs": [],
   "source": [
    "import matplotlib.pyplot as plt"
   ]
  },
  {
   "cell_type": "code",
   "execution_count": 3,
   "id": "9dbfc45d",
   "metadata": {},
   "outputs": [
    {
     "name": "stderr",
     "output_type": "stream",
     "text": [
      "C:\\Users\\priya\\anaconda3\\lib\\site-packages\\IPython\\core\\interactiveshell.py:3165: DtypeWarning: Columns (7) have mixed types.Specify dtype option on import or set low_memory=False.\n",
      "  has_raised = await self.run_ast_nodes(code_ast.body, cell_name,\n"
     ]
    }
   ],
   "source": [
    "data= pd.read_csv('corona_tested_individuals_ver_0083.english.csv')"
   ]
  },
  {
   "cell_type": "code",
   "execution_count": 4,
   "id": "c5b97321",
   "metadata": {},
   "outputs": [
    {
     "data": {
      "text/plain": [
       "(2742596, 10)"
      ]
     },
     "execution_count": 4,
     "metadata": {},
     "output_type": "execute_result"
    }
   ],
   "source": [
    "data.shape"
   ]
  },
  {
   "cell_type": "code",
   "execution_count": 5,
   "id": "ba3614b4",
   "metadata": {},
   "outputs": [
    {
     "data": {
      "text/html": [
       "<div>\n",
       "<style scoped>\n",
       "    .dataframe tbody tr th:only-of-type {\n",
       "        vertical-align: middle;\n",
       "    }\n",
       "\n",
       "    .dataframe tbody tr th {\n",
       "        vertical-align: top;\n",
       "    }\n",
       "\n",
       "    .dataframe thead th {\n",
       "        text-align: right;\n",
       "    }\n",
       "</style>\n",
       "<table border=\"1\" class=\"dataframe\">\n",
       "  <thead>\n",
       "    <tr style=\"text-align: right;\">\n",
       "      <th></th>\n",
       "      <th>test_date</th>\n",
       "      <th>cough</th>\n",
       "      <th>fever</th>\n",
       "      <th>sore_throat</th>\n",
       "      <th>shortness_of_breath</th>\n",
       "      <th>head_ache</th>\n",
       "      <th>corona_result</th>\n",
       "      <th>age_60_and_above</th>\n",
       "      <th>gender</th>\n",
       "      <th>test_indication</th>\n",
       "    </tr>\n",
       "  </thead>\n",
       "  <tbody>\n",
       "    <tr>\n",
       "      <th>0</th>\n",
       "      <td>2020-11-12</td>\n",
       "      <td>0</td>\n",
       "      <td>0</td>\n",
       "      <td>0</td>\n",
       "      <td>0</td>\n",
       "      <td>0</td>\n",
       "      <td>negative</td>\n",
       "      <td>No</td>\n",
       "      <td>male</td>\n",
       "      <td>Other</td>\n",
       "    </tr>\n",
       "    <tr>\n",
       "      <th>1</th>\n",
       "      <td>2020-11-12</td>\n",
       "      <td>0</td>\n",
       "      <td>1</td>\n",
       "      <td>0</td>\n",
       "      <td>0</td>\n",
       "      <td>0</td>\n",
       "      <td>negative</td>\n",
       "      <td>No</td>\n",
       "      <td>male</td>\n",
       "      <td>Other</td>\n",
       "    </tr>\n",
       "    <tr>\n",
       "      <th>2</th>\n",
       "      <td>2020-11-12</td>\n",
       "      <td>0</td>\n",
       "      <td>0</td>\n",
       "      <td>0</td>\n",
       "      <td>0</td>\n",
       "      <td>0</td>\n",
       "      <td>negative</td>\n",
       "      <td>Yes</td>\n",
       "      <td>female</td>\n",
       "      <td>Other</td>\n",
       "    </tr>\n",
       "    <tr>\n",
       "      <th>3</th>\n",
       "      <td>2020-11-12</td>\n",
       "      <td>0</td>\n",
       "      <td>0</td>\n",
       "      <td>0</td>\n",
       "      <td>0</td>\n",
       "      <td>0</td>\n",
       "      <td>negative</td>\n",
       "      <td>No</td>\n",
       "      <td>male</td>\n",
       "      <td>Other</td>\n",
       "    </tr>\n",
       "    <tr>\n",
       "      <th>4</th>\n",
       "      <td>2020-11-12</td>\n",
       "      <td>0</td>\n",
       "      <td>1</td>\n",
       "      <td>0</td>\n",
       "      <td>0</td>\n",
       "      <td>0</td>\n",
       "      <td>negative</td>\n",
       "      <td>No</td>\n",
       "      <td>male</td>\n",
       "      <td>Contact with confirmed</td>\n",
       "    </tr>\n",
       "  </tbody>\n",
       "</table>\n",
       "</div>"
      ],
      "text/plain": [
       "    test_date  cough  fever  sore_throat  shortness_of_breath  head_ache  \\\n",
       "0  2020-11-12      0      0            0                    0          0   \n",
       "1  2020-11-12      0      1            0                    0          0   \n",
       "2  2020-11-12      0      0            0                    0          0   \n",
       "3  2020-11-12      0      0            0                    0          0   \n",
       "4  2020-11-12      0      1            0                    0          0   \n",
       "\n",
       "  corona_result age_60_and_above  gender         test_indication  \n",
       "0      negative               No    male                   Other  \n",
       "1      negative               No    male                   Other  \n",
       "2      negative              Yes  female                   Other  \n",
       "3      negative               No    male                   Other  \n",
       "4      negative               No    male  Contact with confirmed  "
      ]
     },
     "execution_count": 5,
     "metadata": {},
     "output_type": "execute_result"
    }
   ],
   "source": [
    "data.head()"
   ]
  },
  {
   "cell_type": "code",
   "execution_count": 6,
   "id": "e24021e8",
   "metadata": {},
   "outputs": [
    {
     "data": {
      "text/plain": [
       "negative    2480403\n",
       "positive     220975\n",
       "other         41218\n",
       "Name: corona_result, dtype: int64"
      ]
     },
     "execution_count": 6,
     "metadata": {},
     "output_type": "execute_result"
    }
   ],
   "source": [
    "data['corona_result'].value_counts()\n"
   ]
  },
  {
   "cell_type": "code",
   "execution_count": 7,
   "id": "3b13a569",
   "metadata": {},
   "outputs": [],
   "source": [
    "data['corona_result'].replace({\"other\":\"negative\"},inplace = True)"
   ]
  },
  {
   "cell_type": "code",
   "execution_count": 8,
   "id": "aa8d2bd2",
   "metadata": {},
   "outputs": [
    {
     "data": {
      "text/plain": [
       "negative    2521621\n",
       "positive     220975\n",
       "Name: corona_result, dtype: int64"
      ]
     },
     "execution_count": 8,
     "metadata": {},
     "output_type": "execute_result"
    }
   ],
   "source": [
    "data['corona_result'].value_counts()\n"
   ]
  },
  {
   "cell_type": "code",
   "execution_count": 9,
   "id": "c26616d8",
   "metadata": {},
   "outputs": [],
   "source": [
    "y=data.iloc[:,6:7]"
   ]
  },
  {
   "cell_type": "code",
   "execution_count": 10,
   "id": "ef4cd20f",
   "metadata": {},
   "outputs": [
    {
     "data": {
      "text/html": [
       "<div>\n",
       "<style scoped>\n",
       "    .dataframe tbody tr th:only-of-type {\n",
       "        vertical-align: middle;\n",
       "    }\n",
       "\n",
       "    .dataframe tbody tr th {\n",
       "        vertical-align: top;\n",
       "    }\n",
       "\n",
       "    .dataframe thead th {\n",
       "        text-align: right;\n",
       "    }\n",
       "</style>\n",
       "<table border=\"1\" class=\"dataframe\">\n",
       "  <thead>\n",
       "    <tr style=\"text-align: right;\">\n",
       "      <th></th>\n",
       "      <th>corona_result</th>\n",
       "    </tr>\n",
       "  </thead>\n",
       "  <tbody>\n",
       "    <tr>\n",
       "      <th>0</th>\n",
       "      <td>negative</td>\n",
       "    </tr>\n",
       "    <tr>\n",
       "      <th>1</th>\n",
       "      <td>negative</td>\n",
       "    </tr>\n",
       "    <tr>\n",
       "      <th>2</th>\n",
       "      <td>negative</td>\n",
       "    </tr>\n",
       "    <tr>\n",
       "      <th>3</th>\n",
       "      <td>negative</td>\n",
       "    </tr>\n",
       "    <tr>\n",
       "      <th>4</th>\n",
       "      <td>negative</td>\n",
       "    </tr>\n",
       "    <tr>\n",
       "      <th>...</th>\n",
       "      <td>...</td>\n",
       "    </tr>\n",
       "    <tr>\n",
       "      <th>2742591</th>\n",
       "      <td>negative</td>\n",
       "    </tr>\n",
       "    <tr>\n",
       "      <th>2742592</th>\n",
       "      <td>negative</td>\n",
       "    </tr>\n",
       "    <tr>\n",
       "      <th>2742593</th>\n",
       "      <td>negative</td>\n",
       "    </tr>\n",
       "    <tr>\n",
       "      <th>2742594</th>\n",
       "      <td>negative</td>\n",
       "    </tr>\n",
       "    <tr>\n",
       "      <th>2742595</th>\n",
       "      <td>negative</td>\n",
       "    </tr>\n",
       "  </tbody>\n",
       "</table>\n",
       "<p>2742596 rows × 1 columns</p>\n",
       "</div>"
      ],
      "text/plain": [
       "        corona_result\n",
       "0            negative\n",
       "1            negative\n",
       "2            negative\n",
       "3            negative\n",
       "4            negative\n",
       "...               ...\n",
       "2742591      negative\n",
       "2742592      negative\n",
       "2742593      negative\n",
       "2742594      negative\n",
       "2742595      negative\n",
       "\n",
       "[2742596 rows x 1 columns]"
      ]
     },
     "execution_count": 10,
     "metadata": {},
     "output_type": "execute_result"
    }
   ],
   "source": [
    "y"
   ]
  },
  {
   "cell_type": "code",
   "execution_count": 11,
   "id": "260d2b7d",
   "metadata": {},
   "outputs": [],
   "source": [
    "data.drop(columns='corona_result',axis=0,inplace=True)"
   ]
  },
  {
   "cell_type": "code",
   "execution_count": 12,
   "id": "caa520b3",
   "metadata": {},
   "outputs": [],
   "source": [
    "X = pd.get_dummies(data, columns = ['test_date','test_indication'])"
   ]
  },
  {
   "cell_type": "code",
   "execution_count": 13,
   "id": "88a07235",
   "metadata": {},
   "outputs": [
    {
     "data": {
      "text/plain": [
       "array(['No', 'Yes', nan], dtype=object)"
      ]
     },
     "execution_count": 13,
     "metadata": {},
     "output_type": "execute_result"
    }
   ],
   "source": [
    "X.age_60_and_above.unique()"
   ]
  },
  {
   "cell_type": "code",
   "execution_count": 14,
   "id": "3d079a3e",
   "metadata": {},
   "outputs": [
    {
     "data": {
      "text/plain": [
       "0    No\n",
       "dtype: object"
      ]
     },
     "execution_count": 14,
     "metadata": {},
     "output_type": "execute_result"
    }
   ],
   "source": [
    "X['age_60_and_above'].mode()"
   ]
  },
  {
   "cell_type": "code",
   "execution_count": 15,
   "id": "5b375c55",
   "metadata": {},
   "outputs": [],
   "source": [
    "# filling with most common clas\n",
    "X= X.apply(lambda x: x.fillna(x.value_counts().index[0]))\n"
   ]
  },
  {
   "cell_type": "code",
   "execution_count": 16,
   "id": "ad05794d",
   "metadata": {},
   "outputs": [
    {
     "data": {
      "text/plain": [
       "array(['No', 'Yes'], dtype=object)"
      ]
     },
     "execution_count": 16,
     "metadata": {},
     "output_type": "execute_result"
    }
   ],
   "source": [
    "X.age_60_and_above.unique()"
   ]
  },
  {
   "cell_type": "code",
   "execution_count": 17,
   "id": "09c52b34",
   "metadata": {},
   "outputs": [
    {
     "data": {
      "text/html": [
       "<div>\n",
       "<style scoped>\n",
       "    .dataframe tbody tr th:only-of-type {\n",
       "        vertical-align: middle;\n",
       "    }\n",
       "\n",
       "    .dataframe tbody tr th {\n",
       "        vertical-align: top;\n",
       "    }\n",
       "\n",
       "    .dataframe thead th {\n",
       "        text-align: right;\n",
       "    }\n",
       "</style>\n",
       "<table border=\"1\" class=\"dataframe\">\n",
       "  <thead>\n",
       "    <tr style=\"text-align: right;\">\n",
       "      <th></th>\n",
       "      <th>cough</th>\n",
       "      <th>fever</th>\n",
       "      <th>sore_throat</th>\n",
       "      <th>shortness_of_breath</th>\n",
       "      <th>head_ache</th>\n",
       "      <th>age_60_and_above</th>\n",
       "      <th>gender</th>\n",
       "      <th>test_date_2020-03-11</th>\n",
       "      <th>test_date_2020-03-12</th>\n",
       "      <th>test_date_2020-03-13</th>\n",
       "      <th>...</th>\n",
       "      <th>test_date_2020-11-06</th>\n",
       "      <th>test_date_2020-11-07</th>\n",
       "      <th>test_date_2020-11-08</th>\n",
       "      <th>test_date_2020-11-09</th>\n",
       "      <th>test_date_2020-11-10</th>\n",
       "      <th>test_date_2020-11-11</th>\n",
       "      <th>test_date_2020-11-12</th>\n",
       "      <th>test_indication_Abroad</th>\n",
       "      <th>test_indication_Contact with confirmed</th>\n",
       "      <th>test_indication_Other</th>\n",
       "    </tr>\n",
       "  </thead>\n",
       "  <tbody>\n",
       "    <tr>\n",
       "      <th>0</th>\n",
       "      <td>0</td>\n",
       "      <td>0</td>\n",
       "      <td>0</td>\n",
       "      <td>0</td>\n",
       "      <td>0</td>\n",
       "      <td>No</td>\n",
       "      <td>male</td>\n",
       "      <td>0</td>\n",
       "      <td>0</td>\n",
       "      <td>0</td>\n",
       "      <td>...</td>\n",
       "      <td>0</td>\n",
       "      <td>0</td>\n",
       "      <td>0</td>\n",
       "      <td>0</td>\n",
       "      <td>0</td>\n",
       "      <td>0</td>\n",
       "      <td>1</td>\n",
       "      <td>0</td>\n",
       "      <td>0</td>\n",
       "      <td>1</td>\n",
       "    </tr>\n",
       "    <tr>\n",
       "      <th>1</th>\n",
       "      <td>0</td>\n",
       "      <td>1</td>\n",
       "      <td>0</td>\n",
       "      <td>0</td>\n",
       "      <td>0</td>\n",
       "      <td>No</td>\n",
       "      <td>male</td>\n",
       "      <td>0</td>\n",
       "      <td>0</td>\n",
       "      <td>0</td>\n",
       "      <td>...</td>\n",
       "      <td>0</td>\n",
       "      <td>0</td>\n",
       "      <td>0</td>\n",
       "      <td>0</td>\n",
       "      <td>0</td>\n",
       "      <td>0</td>\n",
       "      <td>1</td>\n",
       "      <td>0</td>\n",
       "      <td>0</td>\n",
       "      <td>1</td>\n",
       "    </tr>\n",
       "    <tr>\n",
       "      <th>2</th>\n",
       "      <td>0</td>\n",
       "      <td>0</td>\n",
       "      <td>0</td>\n",
       "      <td>0</td>\n",
       "      <td>0</td>\n",
       "      <td>Yes</td>\n",
       "      <td>female</td>\n",
       "      <td>0</td>\n",
       "      <td>0</td>\n",
       "      <td>0</td>\n",
       "      <td>...</td>\n",
       "      <td>0</td>\n",
       "      <td>0</td>\n",
       "      <td>0</td>\n",
       "      <td>0</td>\n",
       "      <td>0</td>\n",
       "      <td>0</td>\n",
       "      <td>1</td>\n",
       "      <td>0</td>\n",
       "      <td>0</td>\n",
       "      <td>1</td>\n",
       "    </tr>\n",
       "    <tr>\n",
       "      <th>3</th>\n",
       "      <td>0</td>\n",
       "      <td>0</td>\n",
       "      <td>0</td>\n",
       "      <td>0</td>\n",
       "      <td>0</td>\n",
       "      <td>No</td>\n",
       "      <td>male</td>\n",
       "      <td>0</td>\n",
       "      <td>0</td>\n",
       "      <td>0</td>\n",
       "      <td>...</td>\n",
       "      <td>0</td>\n",
       "      <td>0</td>\n",
       "      <td>0</td>\n",
       "      <td>0</td>\n",
       "      <td>0</td>\n",
       "      <td>0</td>\n",
       "      <td>1</td>\n",
       "      <td>0</td>\n",
       "      <td>0</td>\n",
       "      <td>1</td>\n",
       "    </tr>\n",
       "    <tr>\n",
       "      <th>4</th>\n",
       "      <td>0</td>\n",
       "      <td>1</td>\n",
       "      <td>0</td>\n",
       "      <td>0</td>\n",
       "      <td>0</td>\n",
       "      <td>No</td>\n",
       "      <td>male</td>\n",
       "      <td>0</td>\n",
       "      <td>0</td>\n",
       "      <td>0</td>\n",
       "      <td>...</td>\n",
       "      <td>0</td>\n",
       "      <td>0</td>\n",
       "      <td>0</td>\n",
       "      <td>0</td>\n",
       "      <td>0</td>\n",
       "      <td>0</td>\n",
       "      <td>1</td>\n",
       "      <td>0</td>\n",
       "      <td>1</td>\n",
       "      <td>0</td>\n",
       "    </tr>\n",
       "  </tbody>\n",
       "</table>\n",
       "<p>5 rows × 257 columns</p>\n",
       "</div>"
      ],
      "text/plain": [
       "   cough  fever  sore_throat  shortness_of_breath  head_ache age_60_and_above  \\\n",
       "0      0      0            0                    0          0               No   \n",
       "1      0      1            0                    0          0               No   \n",
       "2      0      0            0                    0          0              Yes   \n",
       "3      0      0            0                    0          0               No   \n",
       "4      0      1            0                    0          0               No   \n",
       "\n",
       "   gender  test_date_2020-03-11  test_date_2020-03-12  test_date_2020-03-13  \\\n",
       "0    male                     0                     0                     0   \n",
       "1    male                     0                     0                     0   \n",
       "2  female                     0                     0                     0   \n",
       "3    male                     0                     0                     0   \n",
       "4    male                     0                     0                     0   \n",
       "\n",
       "   ...  test_date_2020-11-06  test_date_2020-11-07  test_date_2020-11-08  \\\n",
       "0  ...                     0                     0                     0   \n",
       "1  ...                     0                     0                     0   \n",
       "2  ...                     0                     0                     0   \n",
       "3  ...                     0                     0                     0   \n",
       "4  ...                     0                     0                     0   \n",
       "\n",
       "   test_date_2020-11-09  test_date_2020-11-10  test_date_2020-11-11  \\\n",
       "0                     0                     0                     0   \n",
       "1                     0                     0                     0   \n",
       "2                     0                     0                     0   \n",
       "3                     0                     0                     0   \n",
       "4                     0                     0                     0   \n",
       "\n",
       "   test_date_2020-11-12  test_indication_Abroad  \\\n",
       "0                     1                       0   \n",
       "1                     1                       0   \n",
       "2                     1                       0   \n",
       "3                     1                       0   \n",
       "4                     1                       0   \n",
       "\n",
       "   test_indication_Contact with confirmed  test_indication_Other  \n",
       "0                                       0                      1  \n",
       "1                                       0                      1  \n",
       "2                                       0                      1  \n",
       "3                                       0                      1  \n",
       "4                                       1                      0  \n",
       "\n",
       "[5 rows x 257 columns]"
      ]
     },
     "execution_count": 17,
     "metadata": {},
     "output_type": "execute_result"
    }
   ],
   "source": [
    "X.head()"
   ]
  },
  {
   "cell_type": "code",
   "execution_count": 18,
   "id": "e15448e3",
   "metadata": {},
   "outputs": [
    {
     "name": "stderr",
     "output_type": "stream",
     "text": [
      "C:\\Users\\priya\\anaconda3\\lib\\site-packages\\sklearn\\utils\\validation.py:63: DataConversionWarning: A column-vector y was passed when a 1d array was expected. Please change the shape of y to (n_samples, ), for example using ravel().\n",
      "  return f(*args, **kwargs)\n"
     ]
    }
   ],
   "source": [
    "from sklearn.preprocessing import LabelEncoder\n",
    "le = LabelEncoder()\n",
    "y=le.fit_transform(y)"
   ]
  },
  {
   "cell_type": "code",
   "execution_count": 19,
   "id": "badc08b2",
   "metadata": {},
   "outputs": [
    {
     "data": {
      "text/plain": [
       "array([0, 0, 0, ..., 0, 0, 0])"
      ]
     },
     "execution_count": 19,
     "metadata": {},
     "output_type": "execute_result"
    }
   ],
   "source": [
    "y"
   ]
  },
  {
   "cell_type": "code",
   "execution_count": 20,
   "id": "f1cf0923",
   "metadata": {},
   "outputs": [
    {
     "data": {
      "text/plain": [
       "0    2731579\n",
       "1      11017\n",
       "Name: shortness_of_breath, dtype: int64"
      ]
     },
     "execution_count": 20,
     "metadata": {},
     "output_type": "execute_result"
    }
   ],
   "source": [
    "X['shortness_of_breath'].value_counts()"
   ]
  },
  {
   "cell_type": "code",
   "execution_count": 21,
   "id": "5c67dd4d",
   "metadata": {},
   "outputs": [],
   "source": [
    "# Assigning numerical values to age 60 \n",
    "from sklearn.preprocessing import LabelEncoder\n",
    "labelencoder = LabelEncoder()\n",
    "X['age_60_and_above'] = labelencoder.fit_transform(X['age_60_and_above'])"
   ]
  },
  {
   "cell_type": "code",
   "execution_count": 22,
   "id": "a4cd0204",
   "metadata": {},
   "outputs": [
    {
     "data": {
      "text/plain": [
       "0      male\n",
       "1      male\n",
       "2    female\n",
       "3      male\n",
       "4      male\n",
       "Name: gender, dtype: object"
      ]
     },
     "execution_count": 22,
     "metadata": {},
     "output_type": "execute_result"
    }
   ],
   "source": [
    "X['gender'].head()"
   ]
  },
  {
   "cell_type": "code",
   "execution_count": 23,
   "id": "ba09380f",
   "metadata": {},
   "outputs": [],
   "source": [
    "# Assigning numerical values to gender column\n",
    "\n",
    "X['gender'] = labelencoder.fit_transform(X['gender'])"
   ]
  },
  {
   "cell_type": "code",
   "execution_count": 24,
   "id": "abf62400",
   "metadata": {},
   "outputs": [
    {
     "data": {
      "text/plain": [
       "0    1\n",
       "1    1\n",
       "2    0\n",
       "3    1\n",
       "4    1\n",
       "Name: gender, dtype: int32"
      ]
     },
     "execution_count": 24,
     "metadata": {},
     "output_type": "execute_result"
    }
   ],
   "source": [
    "X['gender'].head()"
   ]
  },
  {
   "cell_type": "code",
   "execution_count": 25,
   "id": "86e7a9fc",
   "metadata": {},
   "outputs": [
    {
     "data": {
      "text/html": [
       "<div>\n",
       "<style scoped>\n",
       "    .dataframe tbody tr th:only-of-type {\n",
       "        vertical-align: middle;\n",
       "    }\n",
       "\n",
       "    .dataframe tbody tr th {\n",
       "        vertical-align: top;\n",
       "    }\n",
       "\n",
       "    .dataframe thead th {\n",
       "        text-align: right;\n",
       "    }\n",
       "</style>\n",
       "<table border=\"1\" class=\"dataframe\">\n",
       "  <thead>\n",
       "    <tr style=\"text-align: right;\">\n",
       "      <th></th>\n",
       "      <th>cough</th>\n",
       "      <th>fever</th>\n",
       "      <th>sore_throat</th>\n",
       "      <th>shortness_of_breath</th>\n",
       "      <th>head_ache</th>\n",
       "      <th>age_60_and_above</th>\n",
       "      <th>gender</th>\n",
       "      <th>test_date_2020-03-11</th>\n",
       "      <th>test_date_2020-03-12</th>\n",
       "      <th>test_date_2020-03-13</th>\n",
       "      <th>...</th>\n",
       "      <th>test_date_2020-11-06</th>\n",
       "      <th>test_date_2020-11-07</th>\n",
       "      <th>test_date_2020-11-08</th>\n",
       "      <th>test_date_2020-11-09</th>\n",
       "      <th>test_date_2020-11-10</th>\n",
       "      <th>test_date_2020-11-11</th>\n",
       "      <th>test_date_2020-11-12</th>\n",
       "      <th>test_indication_Abroad</th>\n",
       "      <th>test_indication_Contact with confirmed</th>\n",
       "      <th>test_indication_Other</th>\n",
       "    </tr>\n",
       "  </thead>\n",
       "  <tbody>\n",
       "    <tr>\n",
       "      <th>0</th>\n",
       "      <td>0</td>\n",
       "      <td>0</td>\n",
       "      <td>0</td>\n",
       "      <td>0</td>\n",
       "      <td>0</td>\n",
       "      <td>0</td>\n",
       "      <td>1</td>\n",
       "      <td>0</td>\n",
       "      <td>0</td>\n",
       "      <td>0</td>\n",
       "      <td>...</td>\n",
       "      <td>0</td>\n",
       "      <td>0</td>\n",
       "      <td>0</td>\n",
       "      <td>0</td>\n",
       "      <td>0</td>\n",
       "      <td>0</td>\n",
       "      <td>1</td>\n",
       "      <td>0</td>\n",
       "      <td>0</td>\n",
       "      <td>1</td>\n",
       "    </tr>\n",
       "    <tr>\n",
       "      <th>1</th>\n",
       "      <td>0</td>\n",
       "      <td>1</td>\n",
       "      <td>0</td>\n",
       "      <td>0</td>\n",
       "      <td>0</td>\n",
       "      <td>0</td>\n",
       "      <td>1</td>\n",
       "      <td>0</td>\n",
       "      <td>0</td>\n",
       "      <td>0</td>\n",
       "      <td>...</td>\n",
       "      <td>0</td>\n",
       "      <td>0</td>\n",
       "      <td>0</td>\n",
       "      <td>0</td>\n",
       "      <td>0</td>\n",
       "      <td>0</td>\n",
       "      <td>1</td>\n",
       "      <td>0</td>\n",
       "      <td>0</td>\n",
       "      <td>1</td>\n",
       "    </tr>\n",
       "    <tr>\n",
       "      <th>2</th>\n",
       "      <td>0</td>\n",
       "      <td>0</td>\n",
       "      <td>0</td>\n",
       "      <td>0</td>\n",
       "      <td>0</td>\n",
       "      <td>1</td>\n",
       "      <td>0</td>\n",
       "      <td>0</td>\n",
       "      <td>0</td>\n",
       "      <td>0</td>\n",
       "      <td>...</td>\n",
       "      <td>0</td>\n",
       "      <td>0</td>\n",
       "      <td>0</td>\n",
       "      <td>0</td>\n",
       "      <td>0</td>\n",
       "      <td>0</td>\n",
       "      <td>1</td>\n",
       "      <td>0</td>\n",
       "      <td>0</td>\n",
       "      <td>1</td>\n",
       "    </tr>\n",
       "    <tr>\n",
       "      <th>3</th>\n",
       "      <td>0</td>\n",
       "      <td>0</td>\n",
       "      <td>0</td>\n",
       "      <td>0</td>\n",
       "      <td>0</td>\n",
       "      <td>0</td>\n",
       "      <td>1</td>\n",
       "      <td>0</td>\n",
       "      <td>0</td>\n",
       "      <td>0</td>\n",
       "      <td>...</td>\n",
       "      <td>0</td>\n",
       "      <td>0</td>\n",
       "      <td>0</td>\n",
       "      <td>0</td>\n",
       "      <td>0</td>\n",
       "      <td>0</td>\n",
       "      <td>1</td>\n",
       "      <td>0</td>\n",
       "      <td>0</td>\n",
       "      <td>1</td>\n",
       "    </tr>\n",
       "    <tr>\n",
       "      <th>4</th>\n",
       "      <td>0</td>\n",
       "      <td>1</td>\n",
       "      <td>0</td>\n",
       "      <td>0</td>\n",
       "      <td>0</td>\n",
       "      <td>0</td>\n",
       "      <td>1</td>\n",
       "      <td>0</td>\n",
       "      <td>0</td>\n",
       "      <td>0</td>\n",
       "      <td>...</td>\n",
       "      <td>0</td>\n",
       "      <td>0</td>\n",
       "      <td>0</td>\n",
       "      <td>0</td>\n",
       "      <td>0</td>\n",
       "      <td>0</td>\n",
       "      <td>1</td>\n",
       "      <td>0</td>\n",
       "      <td>1</td>\n",
       "      <td>0</td>\n",
       "    </tr>\n",
       "  </tbody>\n",
       "</table>\n",
       "<p>5 rows × 257 columns</p>\n",
       "</div>"
      ],
      "text/plain": [
       "   cough  fever  sore_throat  shortness_of_breath  head_ache  \\\n",
       "0      0      0            0                    0          0   \n",
       "1      0      1            0                    0          0   \n",
       "2      0      0            0                    0          0   \n",
       "3      0      0            0                    0          0   \n",
       "4      0      1            0                    0          0   \n",
       "\n",
       "   age_60_and_above  gender  test_date_2020-03-11  test_date_2020-03-12  \\\n",
       "0                 0       1                     0                     0   \n",
       "1                 0       1                     0                     0   \n",
       "2                 1       0                     0                     0   \n",
       "3                 0       1                     0                     0   \n",
       "4                 0       1                     0                     0   \n",
       "\n",
       "   test_date_2020-03-13  ...  test_date_2020-11-06  test_date_2020-11-07  \\\n",
       "0                     0  ...                     0                     0   \n",
       "1                     0  ...                     0                     0   \n",
       "2                     0  ...                     0                     0   \n",
       "3                     0  ...                     0                     0   \n",
       "4                     0  ...                     0                     0   \n",
       "\n",
       "   test_date_2020-11-08  test_date_2020-11-09  test_date_2020-11-10  \\\n",
       "0                     0                     0                     0   \n",
       "1                     0                     0                     0   \n",
       "2                     0                     0                     0   \n",
       "3                     0                     0                     0   \n",
       "4                     0                     0                     0   \n",
       "\n",
       "   test_date_2020-11-11  test_date_2020-11-12  test_indication_Abroad  \\\n",
       "0                     0                     1                       0   \n",
       "1                     0                     1                       0   \n",
       "2                     0                     1                       0   \n",
       "3                     0                     1                       0   \n",
       "4                     0                     1                       0   \n",
       "\n",
       "   test_indication_Contact with confirmed  test_indication_Other  \n",
       "0                                       0                      1  \n",
       "1                                       0                      1  \n",
       "2                                       0                      1  \n",
       "3                                       0                      1  \n",
       "4                                       1                      0  \n",
       "\n",
       "[5 rows x 257 columns]"
      ]
     },
     "execution_count": 25,
     "metadata": {},
     "output_type": "execute_result"
    }
   ],
   "source": [
    "X.head()"
   ]
  },
  {
   "cell_type": "code",
   "execution_count": 26,
   "id": "fb86a20d",
   "metadata": {},
   "outputs": [
    {
     "data": {
      "text/plain": [
       "0    2712512\n",
       "1      30084\n",
       "Name: sore_throat, dtype: int64"
      ]
     },
     "execution_count": 26,
     "metadata": {},
     "output_type": "execute_result"
    }
   ],
   "source": [
    "\n",
    "X['sore_throat'].value_counts()"
   ]
  },
  {
   "cell_type": "code",
   "execution_count": 27,
   "id": "164d7fa3",
   "metadata": {},
   "outputs": [
    {
     "data": {
      "text/plain": [
       "array([0, 1], dtype=int64)"
      ]
     },
     "execution_count": 27,
     "metadata": {},
     "output_type": "execute_result"
    }
   ],
   "source": [
    "X['fever'].unique()"
   ]
  },
  {
   "cell_type": "code",
   "execution_count": 28,
   "id": "3dc888ee",
   "metadata": {},
   "outputs": [
    {
     "data": {
      "text/plain": [
       "0    2682655\n",
       "1      59941\n",
       "Name: head_ache, dtype: int64"
      ]
     },
     "execution_count": 28,
     "metadata": {},
     "output_type": "execute_result"
    }
   ],
   "source": [
    "X['head_ache'].value_counts()"
   ]
  },
  {
   "cell_type": "code",
   "execution_count": 29,
   "id": "c534b63b",
   "metadata": {},
   "outputs": [
    {
     "data": {
      "text/plain": [
       "(2742596, 257)"
      ]
     },
     "execution_count": 29,
     "metadata": {},
     "output_type": "execute_result"
    }
   ],
   "source": [
    "X.shape\n"
   ]
  },
  {
   "cell_type": "code",
   "execution_count": 30,
   "id": "aa6878a0",
   "metadata": {},
   "outputs": [
    {
     "data": {
      "text/html": [
       "<div>\n",
       "<style scoped>\n",
       "    .dataframe tbody tr th:only-of-type {\n",
       "        vertical-align: middle;\n",
       "    }\n",
       "\n",
       "    .dataframe tbody tr th {\n",
       "        vertical-align: top;\n",
       "    }\n",
       "\n",
       "    .dataframe thead th {\n",
       "        text-align: right;\n",
       "    }\n",
       "</style>\n",
       "<table border=\"1\" class=\"dataframe\">\n",
       "  <thead>\n",
       "    <tr style=\"text-align: right;\">\n",
       "      <th></th>\n",
       "      <th>cough</th>\n",
       "      <th>fever</th>\n",
       "      <th>sore_throat</th>\n",
       "      <th>shortness_of_breath</th>\n",
       "      <th>head_ache</th>\n",
       "      <th>age_60_and_above</th>\n",
       "      <th>gender</th>\n",
       "      <th>test_date_2020-03-11</th>\n",
       "      <th>test_date_2020-03-12</th>\n",
       "      <th>test_date_2020-03-13</th>\n",
       "      <th>...</th>\n",
       "      <th>test_date_2020-11-06</th>\n",
       "      <th>test_date_2020-11-07</th>\n",
       "      <th>test_date_2020-11-08</th>\n",
       "      <th>test_date_2020-11-09</th>\n",
       "      <th>test_date_2020-11-10</th>\n",
       "      <th>test_date_2020-11-11</th>\n",
       "      <th>test_date_2020-11-12</th>\n",
       "      <th>test_indication_Abroad</th>\n",
       "      <th>test_indication_Contact with confirmed</th>\n",
       "      <th>test_indication_Other</th>\n",
       "    </tr>\n",
       "  </thead>\n",
       "  <tbody>\n",
       "    <tr>\n",
       "      <th>0</th>\n",
       "      <td>0</td>\n",
       "      <td>0</td>\n",
       "      <td>0</td>\n",
       "      <td>0</td>\n",
       "      <td>0</td>\n",
       "      <td>0</td>\n",
       "      <td>1</td>\n",
       "      <td>0</td>\n",
       "      <td>0</td>\n",
       "      <td>0</td>\n",
       "      <td>...</td>\n",
       "      <td>0</td>\n",
       "      <td>0</td>\n",
       "      <td>0</td>\n",
       "      <td>0</td>\n",
       "      <td>0</td>\n",
       "      <td>0</td>\n",
       "      <td>1</td>\n",
       "      <td>0</td>\n",
       "      <td>0</td>\n",
       "      <td>1</td>\n",
       "    </tr>\n",
       "    <tr>\n",
       "      <th>1</th>\n",
       "      <td>0</td>\n",
       "      <td>1</td>\n",
       "      <td>0</td>\n",
       "      <td>0</td>\n",
       "      <td>0</td>\n",
       "      <td>0</td>\n",
       "      <td>1</td>\n",
       "      <td>0</td>\n",
       "      <td>0</td>\n",
       "      <td>0</td>\n",
       "      <td>...</td>\n",
       "      <td>0</td>\n",
       "      <td>0</td>\n",
       "      <td>0</td>\n",
       "      <td>0</td>\n",
       "      <td>0</td>\n",
       "      <td>0</td>\n",
       "      <td>1</td>\n",
       "      <td>0</td>\n",
       "      <td>0</td>\n",
       "      <td>1</td>\n",
       "    </tr>\n",
       "    <tr>\n",
       "      <th>2</th>\n",
       "      <td>0</td>\n",
       "      <td>0</td>\n",
       "      <td>0</td>\n",
       "      <td>0</td>\n",
       "      <td>0</td>\n",
       "      <td>1</td>\n",
       "      <td>0</td>\n",
       "      <td>0</td>\n",
       "      <td>0</td>\n",
       "      <td>0</td>\n",
       "      <td>...</td>\n",
       "      <td>0</td>\n",
       "      <td>0</td>\n",
       "      <td>0</td>\n",
       "      <td>0</td>\n",
       "      <td>0</td>\n",
       "      <td>0</td>\n",
       "      <td>1</td>\n",
       "      <td>0</td>\n",
       "      <td>0</td>\n",
       "      <td>1</td>\n",
       "    </tr>\n",
       "    <tr>\n",
       "      <th>3</th>\n",
       "      <td>0</td>\n",
       "      <td>0</td>\n",
       "      <td>0</td>\n",
       "      <td>0</td>\n",
       "      <td>0</td>\n",
       "      <td>0</td>\n",
       "      <td>1</td>\n",
       "      <td>0</td>\n",
       "      <td>0</td>\n",
       "      <td>0</td>\n",
       "      <td>...</td>\n",
       "      <td>0</td>\n",
       "      <td>0</td>\n",
       "      <td>0</td>\n",
       "      <td>0</td>\n",
       "      <td>0</td>\n",
       "      <td>0</td>\n",
       "      <td>1</td>\n",
       "      <td>0</td>\n",
       "      <td>0</td>\n",
       "      <td>1</td>\n",
       "    </tr>\n",
       "    <tr>\n",
       "      <th>4</th>\n",
       "      <td>0</td>\n",
       "      <td>1</td>\n",
       "      <td>0</td>\n",
       "      <td>0</td>\n",
       "      <td>0</td>\n",
       "      <td>0</td>\n",
       "      <td>1</td>\n",
       "      <td>0</td>\n",
       "      <td>0</td>\n",
       "      <td>0</td>\n",
       "      <td>...</td>\n",
       "      <td>0</td>\n",
       "      <td>0</td>\n",
       "      <td>0</td>\n",
       "      <td>0</td>\n",
       "      <td>0</td>\n",
       "      <td>0</td>\n",
       "      <td>1</td>\n",
       "      <td>0</td>\n",
       "      <td>1</td>\n",
       "      <td>0</td>\n",
       "    </tr>\n",
       "  </tbody>\n",
       "</table>\n",
       "<p>5 rows × 257 columns</p>\n",
       "</div>"
      ],
      "text/plain": [
       "   cough  fever  sore_throat  shortness_of_breath  head_ache  \\\n",
       "0      0      0            0                    0          0   \n",
       "1      0      1            0                    0          0   \n",
       "2      0      0            0                    0          0   \n",
       "3      0      0            0                    0          0   \n",
       "4      0      1            0                    0          0   \n",
       "\n",
       "   age_60_and_above  gender  test_date_2020-03-11  test_date_2020-03-12  \\\n",
       "0                 0       1                     0                     0   \n",
       "1                 0       1                     0                     0   \n",
       "2                 1       0                     0                     0   \n",
       "3                 0       1                     0                     0   \n",
       "4                 0       1                     0                     0   \n",
       "\n",
       "   test_date_2020-03-13  ...  test_date_2020-11-06  test_date_2020-11-07  \\\n",
       "0                     0  ...                     0                     0   \n",
       "1                     0  ...                     0                     0   \n",
       "2                     0  ...                     0                     0   \n",
       "3                     0  ...                     0                     0   \n",
       "4                     0  ...                     0                     0   \n",
       "\n",
       "   test_date_2020-11-08  test_date_2020-11-09  test_date_2020-11-10  \\\n",
       "0                     0                     0                     0   \n",
       "1                     0                     0                     0   \n",
       "2                     0                     0                     0   \n",
       "3                     0                     0                     0   \n",
       "4                     0                     0                     0   \n",
       "\n",
       "   test_date_2020-11-11  test_date_2020-11-12  test_indication_Abroad  \\\n",
       "0                     0                     1                       0   \n",
       "1                     0                     1                       0   \n",
       "2                     0                     1                       0   \n",
       "3                     0                     1                       0   \n",
       "4                     0                     1                       0   \n",
       "\n",
       "   test_indication_Contact with confirmed  test_indication_Other  \n",
       "0                                       0                      1  \n",
       "1                                       0                      1  \n",
       "2                                       0                      1  \n",
       "3                                       0                      1  \n",
       "4                                       1                      0  \n",
       "\n",
       "[5 rows x 257 columns]"
      ]
     },
     "execution_count": 30,
     "metadata": {},
     "output_type": "execute_result"
    }
   ],
   "source": [
    "X.head()"
   ]
  },
  {
   "cell_type": "code",
   "execution_count": 31,
   "id": "25bb6507",
   "metadata": {},
   "outputs": [],
   "source": [
    "from sklearn.model_selection import train_test_split\n",
    "X_train,X_test,y_train,y_test = train_test_split(X,y,test_size = 0.2, random_state=1)"
   ]
  },
  {
   "cell_type": "code",
   "execution_count": 32,
   "id": "82c68545",
   "metadata": {},
   "outputs": [
    {
     "name": "stdout",
     "output_type": "stream",
     "text": [
      "         cough  fever  sore_throat  shortness_of_breath  head_ache  \\\n",
      "945529       0      0            0                    0          0   \n",
      "2552683      1      0            0                    0          0   \n",
      "1905075      0      0            0                    0          0   \n",
      "1817578      0      0            0                    0          0   \n",
      "697761       0      0            0                    0          0   \n",
      "...        ...    ...          ...                  ...        ...   \n",
      "836489       0      0            0                    0          0   \n",
      "491263       0      0            0                    0          0   \n",
      "2568076      0      0            0                    0          0   \n",
      "491755       0      0            0                    0          0   \n",
      "128037       0      0            0                    0          0   \n",
      "\n",
      "         age_60_and_above  gender  test_date_2020-03-11  test_date_2020-03-12  \\\n",
      "945529                  0       1                     0                     0   \n",
      "2552683                 0       0                     0                     0   \n",
      "1905075                 0       1                     0                     0   \n",
      "1817578                 0       0                     0                     0   \n",
      "697761                  0       0                     0                     0   \n",
      "...                   ...     ...                   ...                   ...   \n",
      "836489                  0       0                     0                     0   \n",
      "491263                  0       1                     0                     0   \n",
      "2568076                 0       0                     0                     0   \n",
      "491755                  1       1                     0                     0   \n",
      "128037                  0       1                     0                     0   \n",
      "\n",
      "         test_date_2020-03-13  ...  test_date_2020-11-06  \\\n",
      "945529                      0  ...                     0   \n",
      "2552683                     0  ...                     0   \n",
      "1905075                     0  ...                     0   \n",
      "1817578                     0  ...                     0   \n",
      "697761                      0  ...                     0   \n",
      "...                       ...  ...                   ...   \n",
      "836489                      0  ...                     0   \n",
      "491263                      0  ...                     0   \n",
      "2568076                     0  ...                     0   \n",
      "491755                      0  ...                     0   \n",
      "128037                      0  ...                     0   \n",
      "\n",
      "         test_date_2020-11-07  test_date_2020-11-08  test_date_2020-11-09  \\\n",
      "945529                      0                     0                     0   \n",
      "2552683                     0                     0                     0   \n",
      "1905075                     0                     0                     0   \n",
      "1817578                     0                     0                     0   \n",
      "697761                      0                     0                     0   \n",
      "...                       ...                   ...                   ...   \n",
      "836489                      0                     0                     0   \n",
      "491263                      0                     0                     0   \n",
      "2568076                     0                     0                     0   \n",
      "491755                      0                     0                     0   \n",
      "128037                      0                     0                     0   \n",
      "\n",
      "         test_date_2020-11-10  test_date_2020-11-11  test_date_2020-11-12  \\\n",
      "945529                      0                     0                     0   \n",
      "2552683                     0                     0                     0   \n",
      "1905075                     0                     0                     0   \n",
      "1817578                     0                     0                     0   \n",
      "697761                      0                     0                     0   \n",
      "...                       ...                   ...                   ...   \n",
      "836489                      0                     0                     0   \n",
      "491263                      0                     0                     0   \n",
      "2568076                     0                     0                     0   \n",
      "491755                      0                     0                     0   \n",
      "128037                      0                     0                     0   \n",
      "\n",
      "         test_indication_Abroad  test_indication_Contact with confirmed  \\\n",
      "945529                        0                                       0   \n",
      "2552683                       1                                       0   \n",
      "1905075                       0                                       0   \n",
      "1817578                       0                                       0   \n",
      "697761                        0                                       0   \n",
      "...                         ...                                     ...   \n",
      "836489                        0                                       0   \n",
      "491263                        0                                       0   \n",
      "2568076                       0                                       0   \n",
      "491755                        0                                       0   \n",
      "128037                        0                                       0   \n",
      "\n",
      "         test_indication_Other  \n",
      "945529                       1  \n",
      "2552683                      0  \n",
      "1905075                      1  \n",
      "1817578                      1  \n",
      "697761                       1  \n",
      "...                        ...  \n",
      "836489                       1  \n",
      "491263                       1  \n",
      "2568076                      1  \n",
      "491755                       1  \n",
      "128037                       1  \n",
      "\n",
      "[2194076 rows x 257 columns]\n"
     ]
    }
   ],
   "source": [
    "print(X_train)"
   ]
  },
  {
   "cell_type": "code",
   "execution_count": 33,
   "id": "1d35b682",
   "metadata": {},
   "outputs": [
    {
     "name": "stdout",
     "output_type": "stream",
     "text": [
      "         cough  fever  sore_throat  shortness_of_breath  head_ache  \\\n",
      "704399       0      0            0                    0          0   \n",
      "335370       0      0            0                    0          0   \n",
      "664830       0      0            0                    0          0   \n",
      "2055610      0      0            0                    0          0   \n",
      "1698752      0      0            0                    0          0   \n",
      "...        ...    ...          ...                  ...        ...   \n",
      "2677462      0      0            0                    0          0   \n",
      "1486781      0      0            0                    0          0   \n",
      "1388030      0      0            0                    0          0   \n",
      "1544390      0      0            0                    0          0   \n",
      "203472       0      0            0                    0          0   \n",
      "\n",
      "         age_60_and_above  gender  test_date_2020-03-11  test_date_2020-03-12  \\\n",
      "704399                  0       0                     0                     0   \n",
      "335370                  0       0                     0                     0   \n",
      "664830                  0       0                     0                     0   \n",
      "2055610                 0       1                     0                     0   \n",
      "1698752                 0       1                     0                     0   \n",
      "...                   ...     ...                   ...                   ...   \n",
      "2677462                 0       1                     0                     0   \n",
      "1486781                 0       0                     0                     0   \n",
      "1388030                 0       0                     0                     0   \n",
      "1544390                 0       1                     0                     0   \n",
      "203472                  1       1                     0                     0   \n",
      "\n",
      "         test_date_2020-03-13  ...  test_date_2020-11-06  \\\n",
      "704399                      0  ...                     0   \n",
      "335370                      0  ...                     0   \n",
      "664830                      0  ...                     0   \n",
      "2055610                     0  ...                     0   \n",
      "1698752                     0  ...                     0   \n",
      "...                       ...  ...                   ...   \n",
      "2677462                     0  ...                     0   \n",
      "1486781                     0  ...                     0   \n",
      "1388030                     0  ...                     0   \n",
      "1544390                     0  ...                     0   \n",
      "203472                      0  ...                     0   \n",
      "\n",
      "         test_date_2020-11-07  test_date_2020-11-08  test_date_2020-11-09  \\\n",
      "704399                      0                     0                     0   \n",
      "335370                      0                     0                     0   \n",
      "664830                      0                     0                     0   \n",
      "2055610                     0                     0                     0   \n",
      "1698752                     0                     0                     0   \n",
      "...                       ...                   ...                   ...   \n",
      "2677462                     0                     0                     0   \n",
      "1486781                     0                     0                     0   \n",
      "1388030                     0                     0                     0   \n",
      "1544390                     0                     0                     0   \n",
      "203472                      0                     0                     0   \n",
      "\n",
      "         test_date_2020-11-10  test_date_2020-11-11  test_date_2020-11-12  \\\n",
      "704399                      0                     0                     0   \n",
      "335370                      0                     0                     0   \n",
      "664830                      0                     0                     0   \n",
      "2055610                     0                     0                     0   \n",
      "1698752                     0                     0                     0   \n",
      "...                       ...                   ...                   ...   \n",
      "2677462                     0                     0                     0   \n",
      "1486781                     0                     0                     0   \n",
      "1388030                     0                     0                     0   \n",
      "1544390                     0                     0                     0   \n",
      "203472                      0                     0                     0   \n",
      "\n",
      "         test_indication_Abroad  test_indication_Contact with confirmed  \\\n",
      "704399                        0                                       0   \n",
      "335370                        0                                       0   \n",
      "664830                        0                                       0   \n",
      "2055610                       0                                       0   \n",
      "1698752                       0                                       0   \n",
      "...                         ...                                     ...   \n",
      "2677462                       0                                       0   \n",
      "1486781                       0                                       0   \n",
      "1388030                       0                                       0   \n",
      "1544390                       0                                       0   \n",
      "203472                        0                                       0   \n",
      "\n",
      "         test_indication_Other  \n",
      "704399                       1  \n",
      "335370                       1  \n",
      "664830                       1  \n",
      "2055610                      1  \n",
      "1698752                      1  \n",
      "...                        ...  \n",
      "2677462                      1  \n",
      "1486781                      1  \n",
      "1388030                      1  \n",
      "1544390                      1  \n",
      "203472                       1  \n",
      "\n",
      "[548520 rows x 257 columns]\n"
     ]
    }
   ],
   "source": [
    "print(X_test)"
   ]
  },
  {
   "cell_type": "code",
   "execution_count": 34,
   "id": "3beba097",
   "metadata": {},
   "outputs": [
    {
     "name": "stdout",
     "output_type": "stream",
     "text": [
      "[0 0 0 ... 0 0 0]\n"
     ]
    }
   ],
   "source": [
    "print(y_train)"
   ]
  },
  {
   "cell_type": "code",
   "execution_count": 35,
   "id": "c1cd9400",
   "metadata": {},
   "outputs": [
    {
     "name": "stdout",
     "output_type": "stream",
     "text": [
      "[0 0 0 ... 0 0 0]\n"
     ]
    }
   ],
   "source": [
    "print(y_test)"
   ]
  },
  {
   "cell_type": "code",
   "execution_count": 36,
   "id": "207ef794",
   "metadata": {},
   "outputs": [],
   "source": [
    "from sklearn.ensemble import RandomForestClassifier\n",
    "classifier = RandomForestClassifier(n_estimators = 10, criterion = 'entropy',random_state = 0)"
   ]
  },
  {
   "cell_type": "code",
   "execution_count": 37,
   "id": "247339cf",
   "metadata": {},
   "outputs": [
    {
     "data": {
      "text/plain": [
       "RandomForestClassifier(criterion='entropy', n_estimators=10, random_state=0)"
      ]
     },
     "execution_count": 37,
     "metadata": {},
     "output_type": "execute_result"
    }
   ],
   "source": [
    "classifier.fit(X_train,y_train)"
   ]
  },
  {
   "cell_type": "code",
   "execution_count": 38,
   "id": "c82616f2",
   "metadata": {},
   "outputs": [],
   "source": [
    "y_pred = classifier.predict(X_test)\n"
   ]
  },
  {
   "cell_type": "code",
   "execution_count": 39,
   "id": "72ee77be",
   "metadata": {},
   "outputs": [
    {
     "data": {
      "text/plain": [
       "array([0, 0, 0, ..., 0, 0, 0])"
      ]
     },
     "execution_count": 39,
     "metadata": {},
     "output_type": "execute_result"
    }
   ],
   "source": [
    "y_pred\n",
    "\n"
   ]
  },
  {
   "cell_type": "code",
   "execution_count": 40,
   "id": "ccd93ee1",
   "metadata": {},
   "outputs": [
    {
     "data": {
      "text/plain": [
       "array([0, 0, 0, ..., 0, 0, 0])"
      ]
     },
     "execution_count": 40,
     "metadata": {},
     "output_type": "execute_result"
    }
   ],
   "source": [
    "y_test"
   ]
  },
  {
   "cell_type": "code",
   "execution_count": 41,
   "id": "ad47c405",
   "metadata": {},
   "outputs": [],
   "source": [
    "from sklearn.metrics import accuracy_score"
   ]
  },
  {
   "cell_type": "code",
   "execution_count": 42,
   "id": "b62df483",
   "metadata": {},
   "outputs": [
    {
     "data": {
      "text/plain": [
       "0.9421187923867863"
      ]
     },
     "execution_count": 42,
     "metadata": {},
     "output_type": "execute_result"
    }
   ],
   "source": [
    "accuracy_score(y_test, y_pred)"
   ]
  },
  {
   "cell_type": "code",
   "execution_count": 43,
   "id": "076fddb9",
   "metadata": {},
   "outputs": [],
   "source": [
    "from sklearn.linear_model import LogisticRegression"
   ]
  },
  {
   "cell_type": "code",
   "execution_count": 44,
   "id": "d249e557",
   "metadata": {},
   "outputs": [],
   "source": [
    "classifier = LogisticRegression(random_state = 0 )"
   ]
  },
  {
   "cell_type": "code",
   "execution_count": 45,
   "id": "4a3025c0",
   "metadata": {},
   "outputs": [
    {
     "name": "stderr",
     "output_type": "stream",
     "text": [
      "C:\\Users\\priya\\anaconda3\\lib\\site-packages\\sklearn\\linear_model\\_logistic.py:763: ConvergenceWarning: lbfgs failed to converge (status=1):\n",
      "STOP: TOTAL NO. of ITERATIONS REACHED LIMIT.\n",
      "\n",
      "Increase the number of iterations (max_iter) or scale the data as shown in:\n",
      "    https://scikit-learn.org/stable/modules/preprocessing.html\n",
      "Please also refer to the documentation for alternative solver options:\n",
      "    https://scikit-learn.org/stable/modules/linear_model.html#logistic-regression\n",
      "  n_iter_i = _check_optimize_result(\n"
     ]
    },
    {
     "data": {
      "text/plain": [
       "LogisticRegression(random_state=0)"
      ]
     },
     "execution_count": 45,
     "metadata": {},
     "output_type": "execute_result"
    }
   ],
   "source": [
    "classifier.fit(X_train,y_train)"
   ]
  },
  {
   "cell_type": "code",
   "execution_count": 46,
   "id": "4e9a4373",
   "metadata": {},
   "outputs": [],
   "source": [
    "y_pred = classifier.predict(X_test)"
   ]
  },
  {
   "cell_type": "code",
   "execution_count": 47,
   "id": "a7d8d860",
   "metadata": {},
   "outputs": [
    {
     "data": {
      "text/plain": [
       "0.9335065266535404"
      ]
     },
     "execution_count": 47,
     "metadata": {},
     "output_type": "execute_result"
    }
   ],
   "source": [
    "accuracy_score(y_test, y_pred)"
   ]
  },
  {
   "cell_type": "code",
   "execution_count": null,
   "id": "891052c0",
   "metadata": {},
   "outputs": [],
   "source": [
    "# Training the SVM model on the Training set\n",
    "from sklearn.svm import SVC\n",
    "classifier = SVC(kernel = 'linear', random_state = 0)\n",
    "classifier.fit(X_train, y_train)\n",
    "\n"
   ]
  },
  {
   "cell_type": "code",
   "execution_count": null,
   "id": "a2d6287a",
   "metadata": {},
   "outputs": [],
   "source": [
    "# Predicting the Test set results\n",
    "y_pred = classifier.predict(X_test)\n",
    "accuracy_score(y_test, y_pred)"
   ]
  },
  {
   "cell_type": "code",
   "execution_count": null,
   "id": "5cac169d",
   "metadata": {},
   "outputs": [],
   "source": []
  }
 ],
 "metadata": {
  "kernelspec": {
   "display_name": "Python 3",
   "language": "python",
   "name": "python3"
  },
  "language_info": {
   "codemirror_mode": {
    "name": "ipython",
    "version": 3
   },
   "file_extension": ".py",
   "mimetype": "text/x-python",
   "name": "python",
   "nbconvert_exporter": "python",
   "pygments_lexer": "ipython3",
   "version": "3.8.8"
  }
 },
 "nbformat": 4,
 "nbformat_minor": 5
}
